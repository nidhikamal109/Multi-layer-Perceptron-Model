{
 "cells": [
  {
   "cell_type": "code",
   "execution_count": 1,
   "metadata": {},
   "outputs": [],
   "source": [
    "import numpy as np\n",
    "np.random.seed(10)\n",
    "import pandas as pd \n",
    "import matplotlib.pyplot as plt\n",
    "import seaborn as sns\n",
    "\n",
    "# Required magic to display matplotlib plots in notebooks\n",
    "%matplotlib inline\n",
    "\n",
    "from sklearn import metrics\n",
    "from sklearn.metrics import accuracy_score, confusion_matrix\n",
    "from sklearn.model_selection import train_test_split"
   ]
  },
  {
   "cell_type": "code",
   "execution_count": 29,
   "metadata": {},
   "outputs": [],
   "source": [
    "from sklearn.preprocessing import StandardScaler\n",
    "import keras\n",
    "from keras.models import Sequential"
   ]
  },
  {
   "cell_type": "code",
   "execution_count": 2,
   "metadata": {},
   "outputs": [],
   "source": [
    "data = pd.read_csv('train.csv')"
   ]
  },
  {
   "cell_type": "code",
   "execution_count": 3,
   "metadata": {},
   "outputs": [
    {
     "data": {
      "text/html": [
       "<div>\n",
       "<style scoped>\n",
       "    .dataframe tbody tr th:only-of-type {\n",
       "        vertical-align: middle;\n",
       "    }\n",
       "\n",
       "    .dataframe tbody tr th {\n",
       "        vertical-align: top;\n",
       "    }\n",
       "\n",
       "    .dataframe thead th {\n",
       "        text-align: right;\n",
       "    }\n",
       "</style>\n",
       "<table border=\"1\" class=\"dataframe\">\n",
       "  <thead>\n",
       "    <tr style=\"text-align: right;\">\n",
       "      <th></th>\n",
       "      <th>PassengerId</th>\n",
       "      <th>Survived</th>\n",
       "      <th>Pclass</th>\n",
       "      <th>Name</th>\n",
       "      <th>Sex</th>\n",
       "      <th>Age</th>\n",
       "      <th>SibSp</th>\n",
       "      <th>Parch</th>\n",
       "      <th>Ticket</th>\n",
       "      <th>Fare</th>\n",
       "      <th>Cabin</th>\n",
       "      <th>Embarked</th>\n",
       "    </tr>\n",
       "  </thead>\n",
       "  <tbody>\n",
       "    <tr>\n",
       "      <th>0</th>\n",
       "      <td>1</td>\n",
       "      <td>0</td>\n",
       "      <td>3</td>\n",
       "      <td>Braund, Mr. Owen Harris</td>\n",
       "      <td>male</td>\n",
       "      <td>22.0</td>\n",
       "      <td>1</td>\n",
       "      <td>0</td>\n",
       "      <td>A/5 21171</td>\n",
       "      <td>7.2500</td>\n",
       "      <td>NaN</td>\n",
       "      <td>S</td>\n",
       "    </tr>\n",
       "    <tr>\n",
       "      <th>1</th>\n",
       "      <td>2</td>\n",
       "      <td>1</td>\n",
       "      <td>1</td>\n",
       "      <td>Cumings, Mrs. John Bradley (Florence Briggs Th...</td>\n",
       "      <td>female</td>\n",
       "      <td>38.0</td>\n",
       "      <td>1</td>\n",
       "      <td>0</td>\n",
       "      <td>PC 17599</td>\n",
       "      <td>71.2833</td>\n",
       "      <td>C85</td>\n",
       "      <td>C</td>\n",
       "    </tr>\n",
       "    <tr>\n",
       "      <th>2</th>\n",
       "      <td>3</td>\n",
       "      <td>1</td>\n",
       "      <td>3</td>\n",
       "      <td>Heikkinen, Miss. Laina</td>\n",
       "      <td>female</td>\n",
       "      <td>26.0</td>\n",
       "      <td>0</td>\n",
       "      <td>0</td>\n",
       "      <td>STON/O2. 3101282</td>\n",
       "      <td>7.9250</td>\n",
       "      <td>NaN</td>\n",
       "      <td>S</td>\n",
       "    </tr>\n",
       "    <tr>\n",
       "      <th>3</th>\n",
       "      <td>4</td>\n",
       "      <td>1</td>\n",
       "      <td>1</td>\n",
       "      <td>Futrelle, Mrs. Jacques Heath (Lily May Peel)</td>\n",
       "      <td>female</td>\n",
       "      <td>35.0</td>\n",
       "      <td>1</td>\n",
       "      <td>0</td>\n",
       "      <td>113803</td>\n",
       "      <td>53.1000</td>\n",
       "      <td>C123</td>\n",
       "      <td>S</td>\n",
       "    </tr>\n",
       "    <tr>\n",
       "      <th>4</th>\n",
       "      <td>5</td>\n",
       "      <td>0</td>\n",
       "      <td>3</td>\n",
       "      <td>Allen, Mr. William Henry</td>\n",
       "      <td>male</td>\n",
       "      <td>35.0</td>\n",
       "      <td>0</td>\n",
       "      <td>0</td>\n",
       "      <td>373450</td>\n",
       "      <td>8.0500</td>\n",
       "      <td>NaN</td>\n",
       "      <td>S</td>\n",
       "    </tr>\n",
       "  </tbody>\n",
       "</table>\n",
       "</div>"
      ],
      "text/plain": [
       "   PassengerId  Survived  Pclass  \\\n",
       "0            1         0       3   \n",
       "1            2         1       1   \n",
       "2            3         1       3   \n",
       "3            4         1       1   \n",
       "4            5         0       3   \n",
       "\n",
       "                                                Name     Sex   Age  SibSp  \\\n",
       "0                            Braund, Mr. Owen Harris    male  22.0      1   \n",
       "1  Cumings, Mrs. John Bradley (Florence Briggs Th...  female  38.0      1   \n",
       "2                             Heikkinen, Miss. Laina  female  26.0      0   \n",
       "3       Futrelle, Mrs. Jacques Heath (Lily May Peel)  female  35.0      1   \n",
       "4                           Allen, Mr. William Henry    male  35.0      0   \n",
       "\n",
       "   Parch            Ticket     Fare Cabin Embarked  \n",
       "0      0         A/5 21171   7.2500   NaN        S  \n",
       "1      0          PC 17599  71.2833   C85        C  \n",
       "2      0  STON/O2. 3101282   7.9250   NaN        S  \n",
       "3      0            113803  53.1000  C123        S  \n",
       "4      0            373450   8.0500   NaN        S  "
      ]
     },
     "execution_count": 3,
     "metadata": {},
     "output_type": "execute_result"
    }
   ],
   "source": [
    "data.head()"
   ]
  },
  {
   "cell_type": "code",
   "execution_count": 4,
   "metadata": {},
   "outputs": [
    {
     "data": {
      "text/plain": [
       "PassengerId      int64\n",
       "Survived         int64\n",
       "Pclass           int64\n",
       "Name            object\n",
       "Sex             object\n",
       "Age            float64\n",
       "SibSp            int64\n",
       "Parch            int64\n",
       "Ticket          object\n",
       "Fare           float64\n",
       "Cabin           object\n",
       "Embarked        object\n",
       "dtype: object"
      ]
     },
     "execution_count": 4,
     "metadata": {},
     "output_type": "execute_result"
    }
   ],
   "source": [
    "data.dtypes"
   ]
  },
  {
   "cell_type": "code",
   "execution_count": 5,
   "metadata": {},
   "outputs": [],
   "source": [
    "data['Sex']=data['Sex'].replace({ 'male' : 0,'female' : 1})"
   ]
  },
  {
   "cell_type": "code",
   "execution_count": 13,
   "metadata": {},
   "outputs": [],
   "source": [
    "data['Embarked']=data['Embarked'].replace({'S':0,'C':1,'Q':2})"
   ]
  },
  {
   "cell_type": "code",
   "execution_count": 6,
   "metadata": {},
   "outputs": [
    {
     "data": {
      "text/html": [
       "<div>\n",
       "<style scoped>\n",
       "    .dataframe tbody tr th:only-of-type {\n",
       "        vertical-align: middle;\n",
       "    }\n",
       "\n",
       "    .dataframe tbody tr th {\n",
       "        vertical-align: top;\n",
       "    }\n",
       "\n",
       "    .dataframe thead th {\n",
       "        text-align: right;\n",
       "    }\n",
       "</style>\n",
       "<table border=\"1\" class=\"dataframe\">\n",
       "  <thead>\n",
       "    <tr style=\"text-align: right;\">\n",
       "      <th></th>\n",
       "      <th>PassengerId</th>\n",
       "      <th>Survived</th>\n",
       "      <th>Pclass</th>\n",
       "      <th>Name</th>\n",
       "      <th>Sex</th>\n",
       "      <th>Age</th>\n",
       "      <th>SibSp</th>\n",
       "      <th>Parch</th>\n",
       "      <th>Ticket</th>\n",
       "      <th>Fare</th>\n",
       "      <th>Cabin</th>\n",
       "      <th>Embarked</th>\n",
       "    </tr>\n",
       "  </thead>\n",
       "  <tbody>\n",
       "    <tr>\n",
       "      <th>0</th>\n",
       "      <td>1</td>\n",
       "      <td>0</td>\n",
       "      <td>3</td>\n",
       "      <td>Braund, Mr. Owen Harris</td>\n",
       "      <td>0</td>\n",
       "      <td>22.0</td>\n",
       "      <td>1</td>\n",
       "      <td>0</td>\n",
       "      <td>A/5 21171</td>\n",
       "      <td>7.2500</td>\n",
       "      <td>NaN</td>\n",
       "      <td>S</td>\n",
       "    </tr>\n",
       "    <tr>\n",
       "      <th>1</th>\n",
       "      <td>2</td>\n",
       "      <td>1</td>\n",
       "      <td>1</td>\n",
       "      <td>Cumings, Mrs. John Bradley (Florence Briggs Th...</td>\n",
       "      <td>1</td>\n",
       "      <td>38.0</td>\n",
       "      <td>1</td>\n",
       "      <td>0</td>\n",
       "      <td>PC 17599</td>\n",
       "      <td>71.2833</td>\n",
       "      <td>C85</td>\n",
       "      <td>C</td>\n",
       "    </tr>\n",
       "    <tr>\n",
       "      <th>2</th>\n",
       "      <td>3</td>\n",
       "      <td>1</td>\n",
       "      <td>3</td>\n",
       "      <td>Heikkinen, Miss. Laina</td>\n",
       "      <td>1</td>\n",
       "      <td>26.0</td>\n",
       "      <td>0</td>\n",
       "      <td>0</td>\n",
       "      <td>STON/O2. 3101282</td>\n",
       "      <td>7.9250</td>\n",
       "      <td>NaN</td>\n",
       "      <td>S</td>\n",
       "    </tr>\n",
       "    <tr>\n",
       "      <th>3</th>\n",
       "      <td>4</td>\n",
       "      <td>1</td>\n",
       "      <td>1</td>\n",
       "      <td>Futrelle, Mrs. Jacques Heath (Lily May Peel)</td>\n",
       "      <td>1</td>\n",
       "      <td>35.0</td>\n",
       "      <td>1</td>\n",
       "      <td>0</td>\n",
       "      <td>113803</td>\n",
       "      <td>53.1000</td>\n",
       "      <td>C123</td>\n",
       "      <td>S</td>\n",
       "    </tr>\n",
       "    <tr>\n",
       "      <th>4</th>\n",
       "      <td>5</td>\n",
       "      <td>0</td>\n",
       "      <td>3</td>\n",
       "      <td>Allen, Mr. William Henry</td>\n",
       "      <td>0</td>\n",
       "      <td>35.0</td>\n",
       "      <td>0</td>\n",
       "      <td>0</td>\n",
       "      <td>373450</td>\n",
       "      <td>8.0500</td>\n",
       "      <td>NaN</td>\n",
       "      <td>S</td>\n",
       "    </tr>\n",
       "  </tbody>\n",
       "</table>\n",
       "</div>"
      ],
      "text/plain": [
       "   PassengerId  Survived  Pclass  \\\n",
       "0            1         0       3   \n",
       "1            2         1       1   \n",
       "2            3         1       3   \n",
       "3            4         1       1   \n",
       "4            5         0       3   \n",
       "\n",
       "                                                Name  Sex   Age  SibSp  Parch  \\\n",
       "0                            Braund, Mr. Owen Harris    0  22.0      1      0   \n",
       "1  Cumings, Mrs. John Bradley (Florence Briggs Th...    1  38.0      1      0   \n",
       "2                             Heikkinen, Miss. Laina    1  26.0      0      0   \n",
       "3       Futrelle, Mrs. Jacques Heath (Lily May Peel)    1  35.0      1      0   \n",
       "4                           Allen, Mr. William Henry    0  35.0      0      0   \n",
       "\n",
       "             Ticket     Fare Cabin Embarked  \n",
       "0         A/5 21171   7.2500   NaN        S  \n",
       "1          PC 17599  71.2833   C85        C  \n",
       "2  STON/O2. 3101282   7.9250   NaN        S  \n",
       "3            113803  53.1000  C123        S  \n",
       "4            373450   8.0500   NaN        S  "
      ]
     },
     "execution_count": 6,
     "metadata": {},
     "output_type": "execute_result"
    }
   ],
   "source": [
    "data.head()"
   ]
  },
  {
   "cell_type": "code",
   "execution_count": 8,
   "metadata": {},
   "outputs": [
    {
     "data": {
      "text/plain": [
       "3    491\n",
       "1    216\n",
       "2    184\n",
       "Name: Pclass, dtype: int64"
      ]
     },
     "execution_count": 8,
     "metadata": {},
     "output_type": "execute_result"
    }
   ],
   "source": [
    "data['Pclass'].value_counts()"
   ]
  },
  {
   "cell_type": "code",
   "execution_count": 14,
   "metadata": {},
   "outputs": [
    {
     "data": {
      "text/plain": [
       "0.0    644\n",
       "1.0    168\n",
       "2.0     77\n",
       "Name: Embarked, dtype: int64"
      ]
     },
     "execution_count": 14,
     "metadata": {},
     "output_type": "execute_result"
    }
   ],
   "source": [
    "data['Embarked'].value_counts()"
   ]
  },
  {
   "cell_type": "code",
   "execution_count": 16,
   "metadata": {},
   "outputs": [],
   "source": [
    "features=list(data.columns)\n",
    "features.remove('PassengerId')\n",
    "features.remove('Name')\n",
    "features.remove('Ticket')\n",
    "features.remove('Cabin')"
   ]
  },
  {
   "cell_type": "code",
   "execution_count": 20,
   "metadata": {},
   "outputs": [],
   "source": [
    "features.remove('Survived')"
   ]
  },
  {
   "cell_type": "code",
   "execution_count": 17,
   "metadata": {},
   "outputs": [
    {
     "data": {
      "text/plain": [
       "Survived      0\n",
       "Pclass        0\n",
       "Sex           0\n",
       "Age         177\n",
       "SibSp         0\n",
       "Parch         0\n",
       "Fare          0\n",
       "Embarked      2\n",
       "dtype: int64"
      ]
     },
     "execution_count": 17,
     "metadata": {},
     "output_type": "execute_result"
    }
   ],
   "source": [
    "data[features].isnull().sum()"
   ]
  },
  {
   "cell_type": "code",
   "execution_count": 18,
   "metadata": {},
   "outputs": [],
   "source": [
    "data['Age']=data['Age'].fillna(data['Age'].median())"
   ]
  },
  {
   "cell_type": "code",
   "execution_count": 19,
   "metadata": {},
   "outputs": [
    {
     "name": "stdout",
     "output_type": "stream",
     "text": [
      "(891, 12)\n",
      "(889, 12)\n"
     ]
    }
   ],
   "source": [
    "print(data.shape)\n",
    "data=data.dropna(subset=['Embarked'])\n",
    "print(data.shape)"
   ]
  },
  {
   "cell_type": "code",
   "execution_count": 21,
   "metadata": {},
   "outputs": [
    {
     "data": {
      "text/html": [
       "<div>\n",
       "<style scoped>\n",
       "    .dataframe tbody tr th:only-of-type {\n",
       "        vertical-align: middle;\n",
       "    }\n",
       "\n",
       "    .dataframe tbody tr th {\n",
       "        vertical-align: top;\n",
       "    }\n",
       "\n",
       "    .dataframe thead th {\n",
       "        text-align: right;\n",
       "    }\n",
       "</style>\n",
       "<table border=\"1\" class=\"dataframe\">\n",
       "  <thead>\n",
       "    <tr style=\"text-align: right;\">\n",
       "      <th></th>\n",
       "      <th>Pclass</th>\n",
       "      <th>Sex</th>\n",
       "      <th>Age</th>\n",
       "      <th>SibSp</th>\n",
       "      <th>Parch</th>\n",
       "      <th>Fare</th>\n",
       "      <th>Embarked</th>\n",
       "    </tr>\n",
       "  </thead>\n",
       "  <tbody>\n",
       "    <tr>\n",
       "      <th>0</th>\n",
       "      <td>3</td>\n",
       "      <td>0</td>\n",
       "      <td>22.0</td>\n",
       "      <td>1</td>\n",
       "      <td>0</td>\n",
       "      <td>7.2500</td>\n",
       "      <td>0.0</td>\n",
       "    </tr>\n",
       "    <tr>\n",
       "      <th>1</th>\n",
       "      <td>1</td>\n",
       "      <td>1</td>\n",
       "      <td>38.0</td>\n",
       "      <td>1</td>\n",
       "      <td>0</td>\n",
       "      <td>71.2833</td>\n",
       "      <td>1.0</td>\n",
       "    </tr>\n",
       "    <tr>\n",
       "      <th>2</th>\n",
       "      <td>3</td>\n",
       "      <td>1</td>\n",
       "      <td>26.0</td>\n",
       "      <td>0</td>\n",
       "      <td>0</td>\n",
       "      <td>7.9250</td>\n",
       "      <td>0.0</td>\n",
       "    </tr>\n",
       "  </tbody>\n",
       "</table>\n",
       "</div>"
      ],
      "text/plain": [
       "   Pclass  Sex   Age  SibSp  Parch     Fare  Embarked\n",
       "0       3    0  22.0      1      0   7.2500       0.0\n",
       "1       1    1  38.0      1      0  71.2833       1.0\n",
       "2       3    1  26.0      0      0   7.9250       0.0"
      ]
     },
     "execution_count": 21,
     "metadata": {},
     "output_type": "execute_result"
    }
   ],
   "source": [
    "data[features].head(3)"
   ]
  },
  {
   "cell_type": "code",
   "execution_count": 22,
   "metadata": {},
   "outputs": [],
   "source": [
    "X = data[features].values\n",
    "Y = data['Survived'].values"
   ]
  },
  {
   "cell_type": "code",
   "execution_count": 24,
   "metadata": {},
   "outputs": [],
   "source": [
    "sc = StandardScaler()\n",
    "X = sc.fit_transform(X)"
   ]
  },
  {
   "cell_type": "code",
   "execution_count": 30,
   "metadata": {},
   "outputs": [
    {
     "name": "stdout",
     "output_type": "stream",
     "text": [
      "WARNING:tensorflow:From C:\\Users\\nidhi.kamal\\AppData\\Roaming\\Python\\Python36\\site-packages\\tensorflow_core\\python\\ops\\resource_variable_ops.py:1630: calling BaseResourceVariable.__init__ (from tensorflow.python.ops.resource_variable_ops) with constraint is deprecated and will be removed in a future version.\n",
      "Instructions for updating:\n",
      "If using Keras pass *_constraint arguments to layers.\n"
     ]
    },
    {
     "name": "stderr",
     "output_type": "stream",
     "text": [
      "C:\\Users\\nidhi.kamal\\AppData\\Roaming\\Python\\Python36\\site-packages\\ipykernel_launcher.py:3: UserWarning: Update your `Dense` call to the Keras 2 API: `Dense(6, activation=\"relu\", input_dim=7, kernel_initializer=\"uniform\")`\n",
      "  This is separate from the ipykernel package so we can avoid doing imports until\n",
      "C:\\Users\\nidhi.kamal\\AppData\\Roaming\\Python\\Python36\\site-packages\\ipykernel_launcher.py:5: UserWarning: Update your `Dense` call to the Keras 2 API: `Dense(6, activation=\"relu\", kernel_initializer=\"uniform\")`\n",
      "  \"\"\"\n",
      "C:\\Users\\nidhi.kamal\\AppData\\Roaming\\Python\\Python36\\site-packages\\ipykernel_launcher.py:7: UserWarning: Update your `Dense` call to the Keras 2 API: `Dense(1, activation=\"sigmoid\", kernel_initializer=\"uniform\")`\n",
      "  import sys\n"
     ]
    }
   ],
   "source": [
    "model = Sequential()\n",
    "# Adding the input layer and the first hidden layer\n",
    "model.add(keras.layers.core.Dense(6, init = 'uniform', activation = 'relu', input_dim = 7))\n",
    "# Adding the second hidden layer\n",
    "model.add(keras.layers.core.Dense(6, init = 'uniform', activation = 'relu'))\n",
    "# Adding the output layer\n",
    "model.add(keras.layers.core.Dense(1, init = 'uniform', activation = 'sigmoid'))"
   ]
  },
  {
   "cell_type": "code",
   "execution_count": 31,
   "metadata": {},
   "outputs": [
    {
     "name": "stdout",
     "output_type": "stream",
     "text": [
      "WARNING:tensorflow:From C:\\Users\\nidhi.kamal\\AppData\\Roaming\\Python\\Python36\\site-packages\\tensorflow_core\\python\\ops\\nn_impl.py:183: where (from tensorflow.python.ops.array_ops) is deprecated and will be removed in a future version.\n",
      "Instructions for updating:\n",
      "Use tf.where in 2.0, which has the same broadcast rule as np.where\n"
     ]
    }
   ],
   "source": [
    "# compile the model\n",
    "model.compile(optimizer = 'adam', loss = 'binary_crossentropy', metrics = ['accuracy'])"
   ]
  },
  {
   "cell_type": "code",
   "execution_count": 32,
   "metadata": {
    "scrolled": true
   },
   "outputs": [
    {
     "name": "stdout",
     "output_type": "stream",
     "text": [
      "WARNING:tensorflow:From C:\\Users\\nidhi.kamal\\AppData\\Local\\Continuum\\anaconda3\\envs\\env_python_3_6\\lib\\site-packages\\keras\\backend\\tensorflow_backend.py:422: The name tf.global_variables is deprecated. Please use tf.compat.v1.global_variables instead.\n",
      "\n",
      "Epoch 1/100\n",
      "889/889 [==============================] - 1s 944us/step - loss: 0.6861 - accuracy: 0.6175\n",
      "Epoch 2/100\n",
      "889/889 [==============================] - 0s 478us/step - loss: 0.6299 - accuracy: 0.6175\n",
      "Epoch 3/100\n",
      "889/889 [==============================] - 0s 504us/step - loss: 0.5497 - accuracy: 0.6985\n",
      "Epoch 4/100\n",
      "889/889 [==============================] - 0s 520us/step - loss: 0.5157 - accuracy: 0.8065\n",
      "Epoch 5/100\n",
      "889/889 [==============================] - 0s 560us/step - loss: 0.4930 - accuracy: 0.8110\n",
      "Epoch 6/100\n",
      "889/889 [==============================] - 0s 546us/step - loss: 0.4756 - accuracy: 0.7975\n",
      "Epoch 7/100\n",
      "889/889 [==============================] - 0s 513us/step - loss: 0.4626 - accuracy: 0.8088\n",
      "Epoch 8/100\n",
      "889/889 [==============================] - 0s 446us/step - loss: 0.4539 - accuracy: 0.7998\n",
      "Epoch 9/100\n",
      "889/889 [==============================] - 0s 425us/step - loss: 0.4482 - accuracy: 0.8020\n",
      "Epoch 10/100\n",
      "889/889 [==============================] - 0s 536us/step - loss: 0.4439 - accuracy: 0.8088\n",
      "Epoch 11/100\n",
      "889/889 [==============================] - 0s 506us/step - loss: 0.4405 - accuracy: 0.8088\n",
      "Epoch 12/100\n",
      "889/889 [==============================] - 1s 588us/step - loss: 0.4376 - accuracy: 0.8065\n",
      "Epoch 13/100\n",
      "889/889 [==============================] - 0s 528us/step - loss: 0.4356 - accuracy: 0.8065\n",
      "Epoch 14/100\n",
      "889/889 [==============================] - 0s 510us/step - loss: 0.4328 - accuracy: 0.8088\n",
      "Epoch 15/100\n",
      "889/889 [==============================] - 0s 506us/step - loss: 0.4308 - accuracy: 0.8110\n",
      "Epoch 16/100\n",
      "889/889 [==============================] - 0s 549us/step - loss: 0.4293 - accuracy: 0.8110\n",
      "Epoch 17/100\n",
      "889/889 [==============================] - 0s 431us/step - loss: 0.4274 - accuracy: 0.8144\n",
      "Epoch 18/100\n",
      "889/889 [==============================] - 1s 576us/step - loss: 0.4256 - accuracy: 0.8155\n",
      "Epoch 19/100\n",
      "889/889 [==============================] - 1s 579us/step - loss: 0.4244 - accuracy: 0.8144\n",
      "Epoch 20/100\n",
      "889/889 [==============================] - 0s 523us/step - loss: 0.4231 - accuracy: 0.8166\n",
      "Epoch 21/100\n",
      "889/889 [==============================] - 1s 621us/step - loss: 0.4220 - accuracy: 0.8155\n",
      "Epoch 22/100\n",
      "889/889 [==============================] - 0s 521us/step - loss: 0.4213 - accuracy: 0.8166\n",
      "Epoch 23/100\n",
      "889/889 [==============================] - 0s 473us/step - loss: 0.4205 - accuracy: 0.8200\n",
      "Epoch 24/100\n",
      "889/889 [==============================] - 0s 531us/step - loss: 0.4198 - accuracy: 0.8178\n",
      "Epoch 25/100\n",
      "889/889 [==============================] - 0s 465us/step - loss: 0.4184 - accuracy: 0.8211\n",
      "Epoch 26/100\n",
      "889/889 [==============================] - 0s 449us/step - loss: 0.4185 - accuracy: 0.8189\n",
      "Epoch 27/100\n",
      "889/889 [==============================] - 0s 474us/step - loss: 0.4176 - accuracy: 0.8223\n",
      "Epoch 28/100\n",
      "889/889 [==============================] - 0s 543us/step - loss: 0.4165 - accuracy: 0.8211\n",
      "Epoch 29/100\n",
      "889/889 [==============================] - 0s 459us/step - loss: 0.4161 - accuracy: 0.8211\n",
      "Epoch 30/100\n",
      "889/889 [==============================] - 0s 478us/step - loss: 0.4159 - accuracy: 0.8245\n",
      "Epoch 31/100\n",
      "889/889 [==============================] - ETA: 0s - loss: 0.4143 - accuracy: 0.82 - 0s 504us/step - loss: 0.4150 - accuracy: 0.8245\n",
      "Epoch 32/100\n",
      "889/889 [==============================] - 0s 429us/step - loss: 0.4149 - accuracy: 0.8279\n",
      "Epoch 33/100\n",
      "889/889 [==============================] - 0s 287us/step - loss: 0.4156 - accuracy: 0.8211\n",
      "Epoch 34/100\n",
      "889/889 [==============================] - 0s 281us/step - loss: 0.4142 - accuracy: 0.8245\n",
      "Epoch 35/100\n",
      "889/889 [==============================] - 0s 388us/step - loss: 0.4145 - accuracy: 0.8268\n",
      "Epoch 36/100\n",
      "889/889 [==============================] - 0s 356us/step - loss: 0.4138 - accuracy: 0.8290\n",
      "Epoch 37/100\n",
      "889/889 [==============================] - 0s 382us/step - loss: 0.4131 - accuracy: 0.8301\n",
      "Epoch 38/100\n",
      "889/889 [==============================] - 0s 559us/step - loss: 0.4133 - accuracy: 0.8268\n",
      "Epoch 39/100\n",
      "889/889 [==============================] - 1s 576us/step - loss: 0.4127 - accuracy: 0.8268\n",
      "Epoch 40/100\n",
      "889/889 [==============================] - 0s 493us/step - loss: 0.4131 - accuracy: 0.8301\n",
      "Epoch 41/100\n",
      "889/889 [==============================] - 0s 282us/step - loss: 0.4123 - accuracy: 0.8279\n",
      "Epoch 42/100\n",
      "889/889 [==============================] - 0s 377us/step - loss: 0.4125 - accuracy: 0.8279\n",
      "Epoch 43/100\n",
      "889/889 [==============================] - 0s 422us/step - loss: 0.4120 - accuracy: 0.8313\n",
      "Epoch 44/100\n",
      "889/889 [==============================] - 0s 322us/step - loss: 0.4123 - accuracy: 0.8256\n",
      "Epoch 45/100\n",
      "889/889 [==============================] - 0s 310us/step - loss: 0.4115 - accuracy: 0.8335\n",
      "Epoch 46/100\n",
      "889/889 [==============================] - ETA: 0s - loss: 0.4100 - accuracy: 0.83 - 0s 324us/step - loss: 0.4116 - accuracy: 0.8301\n",
      "Epoch 47/100\n",
      "889/889 [==============================] - 0s 524us/step - loss: 0.4108 - accuracy: 0.8313\n",
      "Epoch 48/100\n",
      "889/889 [==============================] - 0s 522us/step - loss: 0.4105 - accuracy: 0.8324\n",
      "Epoch 49/100\n",
      "889/889 [==============================] - 0s 528us/step - loss: 0.4108 - accuracy: 0.8313\n",
      "Epoch 50/100\n",
      "889/889 [==============================] - 0s 524us/step - loss: 0.4107 - accuracy: 0.8290\n",
      "Epoch 51/100\n",
      "889/889 [==============================] - 0s 539us/step - loss: 0.4100 - accuracy: 0.8335\n",
      "Epoch 52/100\n",
      "889/889 [==============================] - 0s 551us/step - loss: 0.4104 - accuracy: 0.8279\n",
      "Epoch 53/100\n",
      "889/889 [==============================] - 0s 532us/step - loss: 0.4099 - accuracy: 0.8335\n",
      "Epoch 54/100\n",
      "889/889 [==============================] - 1s 656us/step - loss: 0.4097 - accuracy: 0.8279\n",
      "Epoch 55/100\n",
      "889/889 [==============================] - 1s 572us/step - loss: 0.4099 - accuracy: 0.8290\n",
      "Epoch 56/100\n",
      "889/889 [==============================] - 0s 535us/step - loss: 0.4090 - accuracy: 0.8301\n",
      "Epoch 57/100\n",
      "889/889 [==============================] - 0s 510us/step - loss: 0.4090 - accuracy: 0.8301\n",
      "Epoch 58/100\n",
      "889/889 [==============================] - 0s 526us/step - loss: 0.4089 - accuracy: 0.8290\n",
      "Epoch 59/100\n",
      "889/889 [==============================] - 0s 520us/step - loss: 0.4087 - accuracy: 0.8324\n",
      "Epoch 60/100\n",
      "889/889 [==============================] - 0s 519us/step - loss: 0.4088 - accuracy: 0.8346\n",
      "Epoch 61/100\n",
      "889/889 [==============================] - 0s 508us/step - loss: 0.4081 - accuracy: 0.8301\n",
      "Epoch 62/100\n",
      "889/889 [==============================] - 0s 518us/step - loss: 0.4088 - accuracy: 0.8301\n",
      "Epoch 63/100\n",
      "889/889 [==============================] - 0s 534us/step - loss: 0.4079 - accuracy: 0.8290\n",
      "Epoch 64/100\n",
      "889/889 [==============================] - ETA: 0s - loss: 0.4045 - accuracy: 0.83 - 0s 508us/step - loss: 0.4081 - accuracy: 0.8301\n",
      "Epoch 65/100\n",
      "889/889 [==============================] - 1s 582us/step - loss: 0.4083 - accuracy: 0.8256\n",
      "Epoch 66/100\n",
      "889/889 [==============================] - 0s 531us/step - loss: 0.4074 - accuracy: 0.8313\n",
      "Epoch 67/100\n",
      "889/889 [==============================] - 0s 465us/step - loss: 0.4077 - accuracy: 0.8313\n",
      "Epoch 68/100\n",
      "889/889 [==============================] - 0s 395us/step - loss: 0.4068 - accuracy: 0.8268\n",
      "Epoch 69/100\n",
      "889/889 [==============================] - 0s 524us/step - loss: 0.4066 - accuracy: 0.8346\n",
      "Epoch 70/100\n",
      "889/889 [==============================] - 0s 510us/step - loss: 0.4071 - accuracy: 0.8313\n",
      "Epoch 71/100\n",
      "889/889 [==============================] - 0s 514us/step - loss: 0.4065 - accuracy: 0.8358\n",
      "Epoch 72/100\n",
      "889/889 [==============================] - 0s 513us/step - loss: 0.4072 - accuracy: 0.8301\n",
      "Epoch 73/100\n",
      "889/889 [==============================] - 0s 530us/step - loss: 0.4068 - accuracy: 0.8335\n",
      "Epoch 74/100\n",
      "889/889 [==============================] - 0s 516us/step - loss: 0.4067 - accuracy: 0.8335\n",
      "Epoch 75/100\n",
      "889/889 [==============================] - 0s 538us/step - loss: 0.4061 - accuracy: 0.8313\n",
      "Epoch 76/100\n"
     ]
    },
    {
     "name": "stdout",
     "output_type": "stream",
     "text": [
      "889/889 [==============================] - 0s 513us/step - loss: 0.4064 - accuracy: 0.8268\n",
      "Epoch 77/100\n",
      "889/889 [==============================] - 0s 511us/step - loss: 0.4060 - accuracy: 0.8290\n",
      "Epoch 78/100\n",
      "889/889 [==============================] - 0s 514us/step - loss: 0.4062 - accuracy: 0.8346\n",
      "Epoch 79/100\n",
      "889/889 [==============================] - 0s 473us/step - loss: 0.4066 - accuracy: 0.8313\n",
      "Epoch 80/100\n",
      "889/889 [==============================] - 0s 440us/step - loss: 0.4068 - accuracy: 0.8324\n",
      "Epoch 81/100\n",
      "889/889 [==============================] - 0s 461us/step - loss: 0.4056 - accuracy: 0.8279\n",
      "Epoch 82/100\n",
      "889/889 [==============================] - 0s 442us/step - loss: 0.4065 - accuracy: 0.8313\n",
      "Epoch 83/100\n",
      "889/889 [==============================] - 0s 432us/step - loss: 0.4057 - accuracy: 0.8313\n",
      "Epoch 84/100\n",
      "889/889 [==============================] - 0s 438us/step - loss: 0.4051 - accuracy: 0.8335\n",
      "Epoch 85/100\n",
      "889/889 [==============================] - 0s 446us/step - loss: 0.4054 - accuracy: 0.83350s - loss: 0.4420 - ac\n",
      "Epoch 86/100\n",
      "889/889 [==============================] - 0s 431us/step - loss: 0.4057 - accuracy: 0.8301\n",
      "Epoch 87/100\n",
      "889/889 [==============================] - 0s 439us/step - loss: 0.4059 - accuracy: 0.8358\n",
      "Epoch 88/100\n",
      "889/889 [==============================] - 0s 435us/step - loss: 0.4045 - accuracy: 0.8324\n",
      "Epoch 89/100\n",
      "889/889 [==============================] - 0s 467us/step - loss: 0.4044 - accuracy: 0.8358\n",
      "Epoch 90/100\n",
      "889/889 [==============================] - 0s 496us/step - loss: 0.4041 - accuracy: 0.8335\n",
      "Epoch 91/100\n",
      "889/889 [==============================] - 0s 473us/step - loss: 0.4046 - accuracy: 0.8391\n",
      "Epoch 92/100\n",
      "889/889 [==============================] - 0s 479us/step - loss: 0.4035 - accuracy: 0.8335\n",
      "Epoch 93/100\n",
      "889/889 [==============================] - 0s 454us/step - loss: 0.4030 - accuracy: 0.8335\n",
      "Epoch 94/100\n",
      "889/889 [==============================] - 0s 308us/step - loss: 0.4036 - accuracy: 0.8324\n",
      "Epoch 95/100\n",
      "889/889 [==============================] - 0s 398us/step - loss: 0.4022 - accuracy: 0.8335\n",
      "Epoch 96/100\n",
      "889/889 [==============================] - 0s 468us/step - loss: 0.4022 - accuracy: 0.8358\n",
      "Epoch 97/100\n",
      "889/889 [==============================] - 0s 490us/step - loss: 0.4026 - accuracy: 0.8301\n",
      "Epoch 98/100\n",
      "889/889 [==============================] - 0s 502us/step - loss: 0.4019 - accuracy: 0.8313\n",
      "Epoch 99/100\n",
      "889/889 [==============================] - 0s 518us/step - loss: 0.4018 - accuracy: 0.8346\n",
      "Epoch 100/100\n",
      "889/889 [==============================] - 0s 485us/step - loss: 0.4015 - accuracy: 0.8335\n"
     ]
    },
    {
     "data": {
      "text/plain": [
       "<keras.callbacks.callbacks.History at 0x20f7acf4e10>"
      ]
     },
     "execution_count": 32,
     "metadata": {},
     "output_type": "execute_result"
    }
   ],
   "source": [
    "# fit the model\n",
    "model.fit(X, Y, batch_size = 10, epochs = 100)"
   ]
  },
  {
   "cell_type": "code",
   "execution_count": 33,
   "metadata": {},
   "outputs": [
    {
     "name": "stdout",
     "output_type": "stream",
     "text": [
      "889/889 [==============================] - 0s 102us/step\n",
      "\n",
      "accuracy: 83.24%\n"
     ]
    }
   ],
   "source": [
    "# evaluate the model\n",
    "scores = model.evaluate(X, Y)\n",
    "\n",
    "# print accuracy\n",
    "print(\"\\n%s: %.2f%%\" % (model.metrics_names[1], scores[1]*100))"
   ]
  },
  {
   "cell_type": "code",
   "execution_count": null,
   "metadata": {},
   "outputs": [],
   "source": []
  }
 ],
 "metadata": {
  "kernelspec": {
   "display_name": "env_python_3_6",
   "language": "python",
   "name": "env_python_3_6"
  },
  "language_info": {
   "codemirror_mode": {
    "name": "ipython",
    "version": 3
   },
   "file_extension": ".py",
   "mimetype": "text/x-python",
   "name": "python",
   "nbconvert_exporter": "python",
   "pygments_lexer": "ipython3",
   "version": "3.6.10"
  }
 },
 "nbformat": 4,
 "nbformat_minor": 2
}
